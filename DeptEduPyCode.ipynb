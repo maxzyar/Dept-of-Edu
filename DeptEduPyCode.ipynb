{
 "cells": [
  {
   "cell_type": "markdown",
   "metadata": {
    "deletable": true,
    "editable": true
   },
   "source": [
    "# Second Problem of The Data Incubator Challenge"
   ]
  },
  {
   "cell_type": "code",
   "execution_count": 198,
   "metadata": {
    "collapsed": false,
    "deletable": true,
    "editable": true
   },
   "outputs": [
    {
     "name": "stdout",
     "output_type": "stream",
     "text": [
      "1097.24037091\n"
     ]
    }
   ],
   "source": [
    "import pandas as pd\n",
    "import numpy as np\n",
    "\n",
    "df = pd.read_csv('D:\\AbC\\MERGED2013_14_PP.csv')\n",
    "\n",
    "df_SATfill = df.copy()\n",
    "df_SATfill.SAT_AVG.fillna(df.SAT_AVG_ALL,inplace=True)\n",
    "df_SATfill.dropna(subset=['SAT_AVG'], inplace=True)\n",
    "df_SATfill1 = df_SATfill[df_SATfill.ICLEVEL == 1]\n",
    "SAT_Average = (df_SATfill1.UGDS * df_SATfill1.SAT_AVG).sum() / df_SATfill1.UGDS.sum()\n",
    "print SAT_Average"
   ]
  },
  {
   "cell_type": "code",
   "execution_count": 199,
   "metadata": {
    "collapsed": false,
    "deletable": true,
    "editable": true
   },
   "outputs": [
    {
     "data": {
      "text/html": [
       "<div>\n",
       "<table border=\"1\" class=\"dataframe\">\n",
       "  <thead>\n",
       "    <tr style=\"text-align: right;\">\n",
       "      <th></th>\n",
       "      <th>SAT_AVG</th>\n",
       "      <th>ENRL_ORIG_YR2_RT</th>\n",
       "    </tr>\n",
       "  </thead>\n",
       "  <tbody>\n",
       "    <tr>\n",
       "      <th>SAT_AVG</th>\n",
       "      <td>1.000000</td>\n",
       "      <td>0.653578</td>\n",
       "    </tr>\n",
       "    <tr>\n",
       "      <th>ENRL_ORIG_YR2_RT</th>\n",
       "      <td>0.653578</td>\n",
       "      <td>1.000000</td>\n",
       "    </tr>\n",
       "  </tbody>\n",
       "</table>\n",
       "</div>"
      ],
      "text/plain": [
       "                   SAT_AVG  ENRL_ORIG_YR2_RT\n",
       "SAT_AVG           1.000000          0.653578\n",
       "ENRL_ORIG_YR2_RT  0.653578          1.000000"
      ]
     },
     "execution_count": 199,
     "metadata": {},
     "output_type": "execute_result"
    }
   ],
   "source": [
    "def isnumber(x):\n",
    "    try:\n",
    "        float(x)\n",
    "        return True\n",
    "    except:\n",
    "        return False\n",
    "\n",
    "df_SATfill = df_SATfill[df_SATfill.applymap(isnumber)]\n",
    "df_SATfill.dropna(subset=['ENRL_ORIG_YR2_RT'], inplace=True)\n",
    "df_SATfill = df_SATfill.applymap(float)\n",
    "df_SATfill[['SAT_AVG','ENRL_ORIG_YR2_RT']].corr()"
   ]
  },
  {
   "cell_type": "code",
   "execution_count": 200,
   "metadata": {
    "collapsed": false,
    "deletable": true,
    "editable": true
   },
   "outputs": [
    {
     "name": "stdout",
     "output_type": "stream",
     "text": [
      "13.7346634533\n"
     ]
    }
   ],
   "source": [
    "import pandas as pd\n",
    "import numpy as np\n",
    "\n",
    "df_Gap = df.copy()\n",
    "df_Gap = df_Gap[df_Gap.applymap(isnumber)]\n",
    "df_Gap.dropna(subset=['LO_INC_COMP_ORIG_YR4_RT','MD_INC_COMP_ORIG_YR4_RT','HI_INC_COMP_ORIG_YR4_RT'], inplace=True)\n",
    "df_Gap = df_Gap.applymap(float)\n",
    "Comp_Gap = df_Gap.HI_INC_COMP_ORIG_YR4_RT.mean() - df_Gap.LO_INC_COMP_ORIG_YR4_RT.mean()\n",
    "print 100*Comp_Gap\n"
   ]
  },
  {
   "cell_type": "code",
   "execution_count": 201,
   "metadata": {
    "collapsed": false,
    "deletable": true,
    "editable": true
   },
   "outputs": [
    {
     "data": {
      "text/plain": [
       "Ttest_indResult(statistic=31.483579962010239, pvalue=4.3269984049802992e-205)"
      ]
     },
     "execution_count": 201,
     "metadata": {},
     "output_type": "execute_result"
    }
   ],
   "source": [
    "from scipy import stats\n",
    "stats.ttest_ind(df_Gap.HI_INC_COMP_ORIG_YR4_RT,df_Gap.LO_INC_COMP_ORIG_YR4_RT)\n",
    "# log(pvalue)=-204.363813265"
   ]
  },
  {
   "cell_type": "code",
   "execution_count": 203,
   "metadata": {
    "collapsed": false,
    "deletable": true,
    "editable": true
   },
   "outputs": [
    {
     "data": {
      "text/plain": [
       "23.349999999999998"
      ]
     },
     "execution_count": 203,
     "metadata": {},
     "output_type": "execute_result"
    }
   ],
   "source": [
    "df_Div = df.copy()\n",
    "df_Div.dropna(subset=['UGDS_WHITE', 'UGDS_BLACK', 'UGDS_HISP', 'UGDS_ASIAN', 'UGDS_AIAN', 'UGDS_NHPI', 'UGDS_2MOR', 'UGDS_NRA', 'UGDS_API', 'UGDS_UNKN'], how = 'all', inplace=True)\n",
    "df_Div['MinRace'] = df_Div.loc[:, ['UGDS_WHITE', 'UGDS_BLACK', 'UGDS_HISP', 'UGDS_ASIAN', 'UGDS_AIAN', 'UGDS_NHPI', 'UGDS_2MOR', 'UGDS_NRA', 'UGDS_API', 'UGDS_UNKN']].min(axis=1)\n",
    "df_Div['MaxRace'] = df_Div.loc[:, ['UGDS_WHITE', 'UGDS_BLACK', 'UGDS_HISP', 'UGDS_ASIAN', 'UGDS_AIAN', 'UGDS_NHPI', 'UGDS_2MOR', 'UGDS_NRA', 'UGDS_API', 'UGDS_UNKN']].max(axis=1)\n",
    "df_Div['DivRace'] = df_Div['MaxRace'] - df_Div['MinRace']\n",
    "df_Div = df_Div[df_Div.MaxRace != 0]\n",
    "100*df_Div['DivRace'].min(axis = 0)\n",
    "#df_Div['DivRace'].idxmin(axis=0, skipna=True)"
   ]
  },
  {
   "cell_type": "code",
   "execution_count": 204,
   "metadata": {
    "collapsed": false
   },
   "outputs": [
    {
     "name": "stdout",
     "output_type": "stream",
     "text": [
      "0    64.934094\n",
      "dtype: float64\n"
     ]
    }
   ],
   "source": [
    "df01 = pd.read_csv('D:\\AbC\\MERGED2001_02_PP.csv')\n",
    "df01.dropna(subset=['UGDS_WOMEN'], inplace=True)\n",
    "W1 = df01.UGDS_WOMEN.mean()\n",
    "df02 = pd.read_csv('D:\\AbC\\MERGED2002_03_PP.csv')\n",
    "df02.dropna(subset=['UGDS_WOMEN'], inplace=True)\n",
    "W2 = df02.UGDS_WOMEN.mean()\n",
    "df03 = pd.read_csv('D:\\AbC\\MERGED2003_04_PP.csv')\n",
    "df03.dropna(subset=['UGDS_WOMEN'], inplace=True)\n",
    "W3 = df03.UGDS_WOMEN.mean()\n",
    "df04 = pd.read_csv('D:\\AbC\\MERGED2004_05_PP.csv')\n",
    "df04.dropna(subset=['UGDS_WOMEN'], inplace=True)\n",
    "W4 = df04.UGDS_WOMEN.mean()\n",
    "df05 = pd.read_csv('D:\\AbC\\MERGED2005_06_PP.csv')\n",
    "df05.dropna(subset=['UGDS_WOMEN'], inplace=True)\n",
    "W5 = df05.UGDS_WOMEN.mean()\n",
    "df06 = pd.read_csv('D:\\AbC\\MERGED2006_07_PP.csv')\n",
    "df06.dropna(subset=['UGDS_WOMEN'], inplace=True)\n",
    "W6 = df06.UGDS_WOMEN.mean()\n",
    "df07 = pd.read_csv('D:\\AbC\\MERGED2007_08_PP.csv')\n",
    "df07.dropna(subset=['UGDS_WOMEN'], inplace=True)\n",
    "W7 = df07.UGDS_WOMEN.mean()\n",
    "df08 = pd.read_csv('D:\\AbC\\MERGED2008_09_PP.csv')\n",
    "df08.dropna(subset=['UGDS_WOMEN'], inplace=True)\n",
    "W8 = df08.UGDS_WOMEN.mean()\n",
    "df09 = pd.read_csv('D:\\AbC\\MERGED2009_10_PP.csv')\n",
    "df09.dropna(subset=['UGDS_WOMEN'], inplace=True)\n",
    "W9 = df09.UGDS_WOMEN.mean()\n",
    "df10 = pd.read_csv('D:\\AbC\\MERGED2010_11_PP.csv')\n",
    "df10.dropna(subset=['UGDS_WOMEN'], inplace=True)\n",
    "W10 = df10.UGDS_WOMEN.mean()\n",
    "WEnrl = pd.DataFrame([W1, W2, W3, W4, W5, W6, W7, W8, W9, W10])\n",
    "print 100*WEnrl.mean()"
   ]
  },
  {
   "cell_type": "code",
   "execution_count": 205,
   "metadata": {
    "collapsed": false
   },
   "outputs": [
    {
     "data": {
      "text/plain": [
       "62.339331619537276"
      ]
     },
     "execution_count": 205,
     "metadata": {},
     "output_type": "execute_result"
    }
   ],
   "source": [
    "df_Loc = pd.read_csv('D:\\AbC\\MERGED2014_15_PP.csv')\n",
    "df_Loc.dropna(subset=['REGION','LOCALE'], inplace=True)\n",
    "df_Loc = df_Loc[df_Loc.LOCALE > 0]\n",
    "noReg = ()\n",
    "noCIT = ()\n",
    "for x in range(0, 10):\n",
    "    REG = df_Loc[df_Loc.REGION == x]\n",
    "    noReg=noReg + (len(REG.index),)\n",
    "    REG2 = REG[REG.LOCALE < 14]\n",
    "    noCIT = noCIT + (len(REG2.index),)\n",
    "import operator\n",
    "from __future__ import division\n",
    "100*max(tuple(map(lambda x, y: x / y, noCIT, noReg)))"
   ]
  },
  {
   "cell_type": "code",
   "execution_count": null,
   "metadata": {
    "collapsed": true
   },
   "outputs": [],
   "source": []
  }
 ],
 "metadata": {
  "kernelspec": {
   "display_name": "Python 2",
   "language": "python",
   "name": "python2"
  },
  "language_info": {
   "codemirror_mode": {
    "name": "ipython",
    "version": 2
   },
   "file_extension": ".py",
   "mimetype": "text/x-python",
   "name": "python",
   "nbconvert_exporter": "python",
   "pygments_lexer": "ipython2",
   "version": "2.7.13"
  }
 },
 "nbformat": 4,
 "nbformat_minor": 2
}
